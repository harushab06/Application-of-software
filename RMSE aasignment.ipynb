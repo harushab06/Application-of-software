{
 "cells": [
  {
   "cell_type": "code",
   "execution_count": 25,
   "id": "e048d037-d5e4-46bd-ae00-5169fc5b85c8",
   "metadata": {},
   "outputs": [],
   "source": [
    "import numpy as np\n",
    "import pandas as pd\n",
    "import os"
   ]
  },
  {
   "cell_type": "code",
   "execution_count": 26,
   "id": "9368b060-d616-4e89-b74b-6075ac0821b6",
   "metadata": {},
   "outputs": [
    {
     "data": {
      "text/plain": [
       "'C:\\\\Users\\\\Harusha B\\\\Documents\\\\Application of software'"
      ]
     },
     "execution_count": 26,
     "metadata": {},
     "output_type": "execute_result"
    }
   ],
   "source": [
    "os.getcwd()"
   ]
  },
  {
   "cell_type": "code",
   "execution_count": 27,
   "id": "62e3dc3b-e8fe-455b-885d-87406f28a833",
   "metadata": {},
   "outputs": [],
   "source": [
    "os.chdir(\"C:\\\\Users\\\\Harusha B\\\\Documents\\\\Application of software\")"
   ]
  },
  {
   "cell_type": "code",
   "execution_count": 28,
   "id": "b2cd9109-3d4d-4be7-a502-139d25acbdfd",
   "metadata": {},
   "outputs": [
    {
     "data": {
      "text/plain": [
       "'C:\\\\Users\\\\Harusha B\\\\Documents\\\\Application of software'"
      ]
     },
     "execution_count": 28,
     "metadata": {},
     "output_type": "execute_result"
    }
   ],
   "source": [
    "os.getcwd()"
   ]
  },
  {
   "cell_type": "code",
   "execution_count": 29,
   "id": "544cfc7c-35cc-4c92-afa9-8506d4a66a52",
   "metadata": {},
   "outputs": [
    {
     "data": {
      "text/html": [
       "<div>\n",
       "<style scoped>\n",
       "    .dataframe tbody tr th:only-of-type {\n",
       "        vertical-align: middle;\n",
       "    }\n",
       "\n",
       "    .dataframe tbody tr th {\n",
       "        vertical-align: top;\n",
       "    }\n",
       "\n",
       "    .dataframe thead th {\n",
       "        text-align: right;\n",
       "    }\n",
       "</style>\n",
       "<table border=\"1\" class=\"dataframe\">\n",
       "  <thead>\n",
       "    <tr style=\"text-align: right;\">\n",
       "      <th></th>\n",
       "      <th>Cars</th>\n",
       "      <th>Sales \\n(in 1,000 units)</th>\n",
       "      <th>Price\\n(in lakh rupees)</th>\n",
       "      <th>Mileage\\n(Km/ltr)</th>\n",
       "      <th>Top speed (Km/hr)</th>\n",
       "    </tr>\n",
       "  </thead>\n",
       "  <tbody>\n",
       "    <tr>\n",
       "      <th>0</th>\n",
       "      <td>Rocinante 1</td>\n",
       "      <td>171.877</td>\n",
       "      <td>6.1</td>\n",
       "      <td>15.8</td>\n",
       "      <td>168.2</td>\n",
       "    </tr>\n",
       "    <tr>\n",
       "      <th>1</th>\n",
       "      <td>Rocinante 2</td>\n",
       "      <td>139.796</td>\n",
       "      <td>6.1</td>\n",
       "      <td>12.1</td>\n",
       "      <td>149.6</td>\n",
       "    </tr>\n",
       "    <tr>\n",
       "      <th>2</th>\n",
       "      <td>Rocinante 3</td>\n",
       "      <td>178.947</td>\n",
       "      <td>9.9</td>\n",
       "      <td>17.0</td>\n",
       "      <td>173.4</td>\n",
       "    </tr>\n",
       "    <tr>\n",
       "      <th>3</th>\n",
       "      <td>Rocinante 4</td>\n",
       "      <td>140.022</td>\n",
       "      <td>5.8</td>\n",
       "      <td>11.6</td>\n",
       "      <td>170.6</td>\n",
       "    </tr>\n",
       "    <tr>\n",
       "      <th>4</th>\n",
       "      <td>Rocinante 5</td>\n",
       "      <td>186.476</td>\n",
       "      <td>10.0</td>\n",
       "      <td>17.2</td>\n",
       "      <td>175.0</td>\n",
       "    </tr>\n",
       "    <tr>\n",
       "      <th>5</th>\n",
       "      <td>Rocinante 6</td>\n",
       "      <td>192.123</td>\n",
       "      <td>6.5</td>\n",
       "      <td>17.6</td>\n",
       "      <td>173.1</td>\n",
       "    </tr>\n",
       "    <tr>\n",
       "      <th>6</th>\n",
       "      <td>Rocinante 7</td>\n",
       "      <td>175.085</td>\n",
       "      <td>5.5</td>\n",
       "      <td>16.0</td>\n",
       "      <td>184.6</td>\n",
       "    </tr>\n",
       "    <tr>\n",
       "      <th>7</th>\n",
       "      <td>Rocinante 8</td>\n",
       "      <td>146.882</td>\n",
       "      <td>8.4</td>\n",
       "      <td>13.0</td>\n",
       "      <td>175.7</td>\n",
       "    </tr>\n",
       "    <tr>\n",
       "      <th>8</th>\n",
       "      <td>Rocinante 9</td>\n",
       "      <td>202.847</td>\n",
       "      <td>6.6</td>\n",
       "      <td>19.3</td>\n",
       "      <td>166.7</td>\n",
       "    </tr>\n",
       "    <tr>\n",
       "      <th>9</th>\n",
       "      <td>Rocinante 10</td>\n",
       "      <td>149.933</td>\n",
       "      <td>8.8</td>\n",
       "      <td>13.3</td>\n",
       "      <td>175.4</td>\n",
       "    </tr>\n",
       "    <tr>\n",
       "      <th>10</th>\n",
       "      <td>Rocinante 11</td>\n",
       "      <td>171.579</td>\n",
       "      <td>9.5</td>\n",
       "      <td>15.8</td>\n",
       "      <td>150.9</td>\n",
       "    </tr>\n",
       "    <tr>\n",
       "      <th>11</th>\n",
       "      <td>Rocinante 12</td>\n",
       "      <td>201.512</td>\n",
       "      <td>9.2</td>\n",
       "      <td>19.2</td>\n",
       "      <td>140.5</td>\n",
       "    </tr>\n",
       "    <tr>\n",
       "      <th>12</th>\n",
       "      <td>Rocinante 13</td>\n",
       "      <td>142.604</td>\n",
       "      <td>8.1</td>\n",
       "      <td>11.7</td>\n",
       "      <td>150.2</td>\n",
       "    </tr>\n",
       "    <tr>\n",
       "      <th>13</th>\n",
       "      <td>Rocinante 14</td>\n",
       "      <td>135.158</td>\n",
       "      <td>5.4</td>\n",
       "      <td>11.2</td>\n",
       "      <td>146.2</td>\n",
       "    </tr>\n",
       "    <tr>\n",
       "      <th>14</th>\n",
       "      <td>Rocinante 15</td>\n",
       "      <td>107.322</td>\n",
       "      <td>5.6</td>\n",
       "      <td>7.8</td>\n",
       "      <td>151.2</td>\n",
       "    </tr>\n",
       "    <tr>\n",
       "      <th>15</th>\n",
       "      <td>Rocinante 16</td>\n",
       "      <td>199.699</td>\n",
       "      <td>6.3</td>\n",
       "      <td>19.0</td>\n",
       "      <td>143.2</td>\n",
       "    </tr>\n",
       "    <tr>\n",
       "      <th>16</th>\n",
       "      <td>Rocinante 17</td>\n",
       "      <td>202.875</td>\n",
       "      <td>5.8</td>\n",
       "      <td>19.7</td>\n",
       "      <td>178.9</td>\n",
       "    </tr>\n",
       "    <tr>\n",
       "      <th>17</th>\n",
       "      <td>Rocinante 18</td>\n",
       "      <td>204.406</td>\n",
       "      <td>7.7</td>\n",
       "      <td>19.5</td>\n",
       "      <td>168.2</td>\n",
       "    </tr>\n",
       "    <tr>\n",
       "      <th>18</th>\n",
       "      <td>Rocinante 19</td>\n",
       "      <td>107.331</td>\n",
       "      <td>7.2</td>\n",
       "      <td>7.5</td>\n",
       "      <td>164.7</td>\n",
       "    </tr>\n",
       "    <tr>\n",
       "      <th>19</th>\n",
       "      <td>Rocinante 20</td>\n",
       "      <td>190.345</td>\n",
       "      <td>8.4</td>\n",
       "      <td>18.1</td>\n",
       "      <td>182.7</td>\n",
       "    </tr>\n",
       "    <tr>\n",
       "      <th>20</th>\n",
       "      <td>Rocinante 21</td>\n",
       "      <td>108.419</td>\n",
       "      <td>8.4</td>\n",
       "      <td>7.9</td>\n",
       "      <td>165.7</td>\n",
       "    </tr>\n",
       "    <tr>\n",
       "      <th>21</th>\n",
       "      <td>Rocinante 22</td>\n",
       "      <td>150.249</td>\n",
       "      <td>5.7</td>\n",
       "      <td>12.6</td>\n",
       "      <td>137.0</td>\n",
       "    </tr>\n",
       "    <tr>\n",
       "      <th>22</th>\n",
       "      <td>Rocinante 23</td>\n",
       "      <td>155.882</td>\n",
       "      <td>5.5</td>\n",
       "      <td>12.9</td>\n",
       "      <td>173.9</td>\n",
       "    </tr>\n",
       "    <tr>\n",
       "      <th>23</th>\n",
       "      <td>Rocinante 24</td>\n",
       "      <td>100.980</td>\n",
       "      <td>8.4</td>\n",
       "      <td>7.6</td>\n",
       "      <td>165.1</td>\n",
       "    </tr>\n",
       "    <tr>\n",
       "      <th>24</th>\n",
       "      <td>Rocinante 25</td>\n",
       "      <td>182.679</td>\n",
       "      <td>5.6</td>\n",
       "      <td>16.7</td>\n",
       "      <td>160.1</td>\n",
       "    </tr>\n",
       "    <tr>\n",
       "      <th>25</th>\n",
       "      <td>Rocinante 26</td>\n",
       "      <td>166.752</td>\n",
       "      <td>9.9</td>\n",
       "      <td>15.5</td>\n",
       "      <td>155.6</td>\n",
       "    </tr>\n",
       "    <tr>\n",
       "      <th>26</th>\n",
       "      <td>Rocinante 27</td>\n",
       "      <td>121.561</td>\n",
       "      <td>6.2</td>\n",
       "      <td>9.5</td>\n",
       "      <td>155.4</td>\n",
       "    </tr>\n",
       "    <tr>\n",
       "      <th>27</th>\n",
       "      <td>Rocinante 28</td>\n",
       "      <td>174.256</td>\n",
       "      <td>9.9</td>\n",
       "      <td>16.3</td>\n",
       "      <td>161.9</td>\n",
       "    </tr>\n",
       "    <tr>\n",
       "      <th>28</th>\n",
       "      <td>Rocinante 29</td>\n",
       "      <td>119.018</td>\n",
       "      <td>6.5</td>\n",
       "      <td>9.1</td>\n",
       "      <td>146.8</td>\n",
       "    </tr>\n",
       "    <tr>\n",
       "      <th>29</th>\n",
       "      <td>Rocinante 30</td>\n",
       "      <td>169.842</td>\n",
       "      <td>7.1</td>\n",
       "      <td>15.3</td>\n",
       "      <td>149.5</td>\n",
       "    </tr>\n",
       "    <tr>\n",
       "      <th>30</th>\n",
       "      <td>Rocinante 31</td>\n",
       "      <td>198.311</td>\n",
       "      <td>9.6</td>\n",
       "      <td>19.1</td>\n",
       "      <td>146.5</td>\n",
       "    </tr>\n",
       "    <tr>\n",
       "      <th>31</th>\n",
       "      <td>Rocinante 32</td>\n",
       "      <td>204.875</td>\n",
       "      <td>5.8</td>\n",
       "      <td>19.4</td>\n",
       "      <td>178.9</td>\n",
       "    </tr>\n",
       "    <tr>\n",
       "      <th>32</th>\n",
       "      <td>Rocinante 33</td>\n",
       "      <td>119.561</td>\n",
       "      <td>6.2</td>\n",
       "      <td>9.4</td>\n",
       "      <td>175.4</td>\n",
       "    </tr>\n",
       "    <tr>\n",
       "      <th>33</th>\n",
       "      <td>Rocinante 34</td>\n",
       "      <td>203.875</td>\n",
       "      <td>5.9</td>\n",
       "      <td>19.4</td>\n",
       "      <td>175.9</td>\n",
       "    </tr>\n",
       "    <tr>\n",
       "      <th>34</th>\n",
       "      <td>Rocinante 35</td>\n",
       "      <td>118.561</td>\n",
       "      <td>6.1</td>\n",
       "      <td>9.4</td>\n",
       "      <td>165.4</td>\n",
       "    </tr>\n",
       "  </tbody>\n",
       "</table>\n",
       "</div>"
      ],
      "text/plain": [
       "            Cars  Sales \\n(in 1,000 units)  Price\\n(in lakh rupees)  \\\n",
       "0    Rocinante 1                   171.877                      6.1   \n",
       "1    Rocinante 2                   139.796                      6.1   \n",
       "2    Rocinante 3                   178.947                      9.9   \n",
       "3    Rocinante 4                   140.022                      5.8   \n",
       "4    Rocinante 5                   186.476                     10.0   \n",
       "5    Rocinante 6                   192.123                      6.5   \n",
       "6    Rocinante 7                   175.085                      5.5   \n",
       "7    Rocinante 8                   146.882                      8.4   \n",
       "8    Rocinante 9                   202.847                      6.6   \n",
       "9   Rocinante 10                   149.933                      8.8   \n",
       "10  Rocinante 11                   171.579                      9.5   \n",
       "11  Rocinante 12                   201.512                      9.2   \n",
       "12  Rocinante 13                   142.604                      8.1   \n",
       "13  Rocinante 14                   135.158                      5.4   \n",
       "14  Rocinante 15                   107.322                      5.6   \n",
       "15  Rocinante 16                   199.699                      6.3   \n",
       "16  Rocinante 17                   202.875                      5.8   \n",
       "17  Rocinante 18                   204.406                      7.7   \n",
       "18  Rocinante 19                   107.331                      7.2   \n",
       "19  Rocinante 20                   190.345                      8.4   \n",
       "20  Rocinante 21                   108.419                      8.4   \n",
       "21  Rocinante 22                   150.249                      5.7   \n",
       "22  Rocinante 23                   155.882                      5.5   \n",
       "23  Rocinante 24                   100.980                      8.4   \n",
       "24  Rocinante 25                   182.679                      5.6   \n",
       "25  Rocinante 26                   166.752                      9.9   \n",
       "26  Rocinante 27                   121.561                      6.2   \n",
       "27  Rocinante 28                   174.256                      9.9   \n",
       "28  Rocinante 29                   119.018                      6.5   \n",
       "29  Rocinante 30                   169.842                      7.1   \n",
       "30  Rocinante 31                   198.311                      9.6   \n",
       "31  Rocinante 32                   204.875                      5.8   \n",
       "32  Rocinante 33                   119.561                      6.2   \n",
       "33  Rocinante 34                   203.875                      5.9   \n",
       "34  Rocinante 35                   118.561                      6.1   \n",
       "\n",
       "    Mileage\\n(Km/ltr)  Top speed (Km/hr)  \n",
       "0                15.8              168.2  \n",
       "1                12.1              149.6  \n",
       "2                17.0              173.4  \n",
       "3                11.6              170.6  \n",
       "4                17.2              175.0  \n",
       "5                17.6              173.1  \n",
       "6                16.0              184.6  \n",
       "7                13.0              175.7  \n",
       "8                19.3              166.7  \n",
       "9                13.3              175.4  \n",
       "10               15.8              150.9  \n",
       "11               19.2              140.5  \n",
       "12               11.7              150.2  \n",
       "13               11.2              146.2  \n",
       "14                7.8              151.2  \n",
       "15               19.0              143.2  \n",
       "16               19.7              178.9  \n",
       "17               19.5              168.2  \n",
       "18                7.5              164.7  \n",
       "19               18.1              182.7  \n",
       "20                7.9              165.7  \n",
       "21               12.6              137.0  \n",
       "22               12.9              173.9  \n",
       "23                7.6              165.1  \n",
       "24               16.7              160.1  \n",
       "25               15.5              155.6  \n",
       "26                9.5              155.4  \n",
       "27               16.3              161.9  \n",
       "28                9.1              146.8  \n",
       "29               15.3              149.5  \n",
       "30               19.1              146.5  \n",
       "31               19.4              178.9  \n",
       "32                9.4              175.4  \n",
       "33               19.4              175.9  \n",
       "34                9.4              165.4  "
      ]
     },
     "execution_count": 29,
     "metadata": {},
     "output_type": "execute_result"
    }
   ],
   "source": [
    "rocinate = pd.read_excel(\"Exhibit+2.xlsx\")\n",
    "rocinate"
   ]
  },
  {
   "cell_type": "code",
   "execution_count": 30,
   "id": "df942af9-fd8e-4996-b350-a795401f6162",
   "metadata": {},
   "outputs": [
    {
     "data": {
      "text/plain": [
       "['Cars',\n",
       " 'Sales \\n(in 1,000 units)',\n",
       " 'Price\\n(in lakh rupees)',\n",
       " 'Mileage\\n(Km/ltr)',\n",
       " 'Top speed (Km/hr)']"
      ]
     },
     "execution_count": 30,
     "metadata": {},
     "output_type": "execute_result"
    }
   ],
   "source": [
    "list(rocinate)"
   ]
  },
  {
   "cell_type": "code",
   "execution_count": 31,
   "id": "1c5e92f2-93b3-4f4d-825e-cb1a4974d165",
   "metadata": {},
   "outputs": [],
   "source": [
    "from sklearn.model_selection import train_test_split"
   ]
  },
  {
   "cell_type": "markdown",
   "id": "796d7ec5-dba5-4b48-a5c4-cf372ae9a446",
   "metadata": {},
   "source": [
    "# Renaming the columns"
   ]
  },
  {
   "cell_type": "code",
   "execution_count": 32,
   "id": "ef4f64c1-9c29-4c70-a8e4-ce6b12cfbd34",
   "metadata": {},
   "outputs": [],
   "source": [
    "rocinate.columns = [\"Cars\", \"Sales\", \"Price\", \"Mileage\", \"Top_speed\"]"
   ]
  },
  {
   "cell_type": "code",
   "execution_count": 33,
   "id": "09f0e7b3-c4a5-4bf4-b2f8-d4318769460d",
   "metadata": {},
   "outputs": [],
   "source": [
    "X = rocinate[[\"Price\", \"Mileage\", \"Top_speed\"]]\n",
    "y = rocinate[\"Sales\"]"
   ]
  },
  {
   "cell_type": "markdown",
   "id": "5bf9002b-4e7b-42be-9dfb-9711d8bc7a40",
   "metadata": {},
   "source": [
    "## Splitting the dataset into 70% training and 30% testing sets"
   ]
  },
  {
   "cell_type": "code",
   "execution_count": 34,
   "id": "d7884493-f617-4a58-ba62-a0d3660b918c",
   "metadata": {},
   "outputs": [],
   "source": [
    "X_train, X_test, y_train, y_test = train_test_split(X, y, test_size=0.3, random_state=42)"
   ]
  },
  {
   "cell_type": "markdown",
   "id": "b0622ed3-234f-4e31-a1ce-4c7febb7456e",
   "metadata": {},
   "source": [
    "## Initializing and training the Linear Regression model"
   ]
  },
  {
   "cell_type": "code",
   "execution_count": 35,
   "id": "470e3d53-11e5-4141-b57e-c806c1be70db",
   "metadata": {},
   "outputs": [],
   "source": [
    "from sklearn.linear_model import LinearRegression"
   ]
  },
  {
   "cell_type": "code",
   "execution_count": 36,
   "id": "5e89e8f9-5c85-4544-973a-8589eaea53b5",
   "metadata": {},
   "outputs": [
    {
     "data": {
      "text/html": [
       "<style>#sk-container-id-2 {color: black;background-color: white;}#sk-container-id-2 pre{padding: 0;}#sk-container-id-2 div.sk-toggleable {background-color: white;}#sk-container-id-2 label.sk-toggleable__label {cursor: pointer;display: block;width: 100%;margin-bottom: 0;padding: 0.3em;box-sizing: border-box;text-align: center;}#sk-container-id-2 label.sk-toggleable__label-arrow:before {content: \"▸\";float: left;margin-right: 0.25em;color: #696969;}#sk-container-id-2 label.sk-toggleable__label-arrow:hover:before {color: black;}#sk-container-id-2 div.sk-estimator:hover label.sk-toggleable__label-arrow:before {color: black;}#sk-container-id-2 div.sk-toggleable__content {max-height: 0;max-width: 0;overflow: hidden;text-align: left;background-color: #f0f8ff;}#sk-container-id-2 div.sk-toggleable__content pre {margin: 0.2em;color: black;border-radius: 0.25em;background-color: #f0f8ff;}#sk-container-id-2 input.sk-toggleable__control:checked~div.sk-toggleable__content {max-height: 200px;max-width: 100%;overflow: auto;}#sk-container-id-2 input.sk-toggleable__control:checked~label.sk-toggleable__label-arrow:before {content: \"▾\";}#sk-container-id-2 div.sk-estimator input.sk-toggleable__control:checked~label.sk-toggleable__label {background-color: #d4ebff;}#sk-container-id-2 div.sk-label input.sk-toggleable__control:checked~label.sk-toggleable__label {background-color: #d4ebff;}#sk-container-id-2 input.sk-hidden--visually {border: 0;clip: rect(1px 1px 1px 1px);clip: rect(1px, 1px, 1px, 1px);height: 1px;margin: -1px;overflow: hidden;padding: 0;position: absolute;width: 1px;}#sk-container-id-2 div.sk-estimator {font-family: monospace;background-color: #f0f8ff;border: 1px dotted black;border-radius: 0.25em;box-sizing: border-box;margin-bottom: 0.5em;}#sk-container-id-2 div.sk-estimator:hover {background-color: #d4ebff;}#sk-container-id-2 div.sk-parallel-item::after {content: \"\";width: 100%;border-bottom: 1px solid gray;flex-grow: 1;}#sk-container-id-2 div.sk-label:hover label.sk-toggleable__label {background-color: #d4ebff;}#sk-container-id-2 div.sk-serial::before {content: \"\";position: absolute;border-left: 1px solid gray;box-sizing: border-box;top: 0;bottom: 0;left: 50%;z-index: 0;}#sk-container-id-2 div.sk-serial {display: flex;flex-direction: column;align-items: center;background-color: white;padding-right: 0.2em;padding-left: 0.2em;position: relative;}#sk-container-id-2 div.sk-item {position: relative;z-index: 1;}#sk-container-id-2 div.sk-parallel {display: flex;align-items: stretch;justify-content: center;background-color: white;position: relative;}#sk-container-id-2 div.sk-item::before, #sk-container-id-2 div.sk-parallel-item::before {content: \"\";position: absolute;border-left: 1px solid gray;box-sizing: border-box;top: 0;bottom: 0;left: 50%;z-index: -1;}#sk-container-id-2 div.sk-parallel-item {display: flex;flex-direction: column;z-index: 1;position: relative;background-color: white;}#sk-container-id-2 div.sk-parallel-item:first-child::after {align-self: flex-end;width: 50%;}#sk-container-id-2 div.sk-parallel-item:last-child::after {align-self: flex-start;width: 50%;}#sk-container-id-2 div.sk-parallel-item:only-child::after {width: 0;}#sk-container-id-2 div.sk-dashed-wrapped {border: 1px dashed gray;margin: 0 0.4em 0.5em 0.4em;box-sizing: border-box;padding-bottom: 0.4em;background-color: white;}#sk-container-id-2 div.sk-label label {font-family: monospace;font-weight: bold;display: inline-block;line-height: 1.2em;}#sk-container-id-2 div.sk-label-container {text-align: center;}#sk-container-id-2 div.sk-container {/* jupyter's `normalize.less` sets `[hidden] { display: none; }` but bootstrap.min.css set `[hidden] { display: none !important; }` so we also need the `!important` here to be able to override the default hidden behavior on the sphinx rendered scikit-learn.org. See: https://github.com/scikit-learn/scikit-learn/issues/21755 */display: inline-block !important;position: relative;}#sk-container-id-2 div.sk-text-repr-fallback {display: none;}</style><div id=\"sk-container-id-2\" class=\"sk-top-container\"><div class=\"sk-text-repr-fallback\"><pre>LinearRegression()</pre><b>In a Jupyter environment, please rerun this cell to show the HTML representation or trust the notebook. <br />On GitHub, the HTML representation is unable to render, please try loading this page with nbviewer.org.</b></div><div class=\"sk-container\" hidden><div class=\"sk-item\"><div class=\"sk-estimator sk-toggleable\"><input class=\"sk-toggleable__control sk-hidden--visually\" id=\"sk-estimator-id-2\" type=\"checkbox\" checked><label for=\"sk-estimator-id-2\" class=\"sk-toggleable__label sk-toggleable__label-arrow\">LinearRegression</label><div class=\"sk-toggleable__content\"><pre>LinearRegression()</pre></div></div></div></div></div>"
      ],
      "text/plain": [
       "LinearRegression()"
      ]
     },
     "execution_count": 36,
     "metadata": {},
     "output_type": "execute_result"
    }
   ],
   "source": [
    "model = LinearRegression()\n",
    "model.fit(X_train, y_train)"
   ]
  },
  {
   "cell_type": "markdown",
   "id": "aed33ed5-a2bf-4124-be35-3bb22d9f3058",
   "metadata": {},
   "source": [
    "## Making the predictions on the test set"
   ]
  },
  {
   "cell_type": "code",
   "execution_count": 37,
   "id": "31c6212d-99e6-4b94-80bd-e14166fc65f0",
   "metadata": {},
   "outputs": [],
   "source": [
    "y_pred = model.predict(X_test)"
   ]
  },
  {
   "cell_type": "markdown",
   "id": "893a01e8-fd0d-41f6-be23-5ee988300f71",
   "metadata": {},
   "source": [
    "## Calculating the RMSE"
   ]
  },
  {
   "cell_type": "code",
   "execution_count": 38,
   "id": "31c2f191-c164-401b-9119-444e8ebdf160",
   "metadata": {},
   "outputs": [],
   "source": [
    "from sklearn.metrics import mean_squared_error"
   ]
  },
  {
   "cell_type": "code",
   "execution_count": 39,
   "id": "1f3b5ee2-9d3d-4578-8f5c-cccd15accb43",
   "metadata": {},
   "outputs": [],
   "source": [
    "rmse = np.sqrt(mean_squared_error(y_test, y_pred))"
   ]
  },
  {
   "cell_type": "markdown",
   "id": "88a6b069-b719-45fb-9ec5-b764d549af51",
   "metadata": {},
   "source": [
    "## RMSE result"
   ]
  },
  {
   "cell_type": "code",
   "execution_count": 40,
   "id": "cec62818-faf1-4769-9024-a65932d53c59",
   "metadata": {},
   "outputs": [
    {
     "name": "stdout",
     "output_type": "stream",
     "text": [
      "Root Mean Squared Error (RMSE): 2.28\n"
     ]
    }
   ],
   "source": [
    "print(f\"Root Mean Squared Error (RMSE): {rmse:.2f}\")"
   ]
  },
  {
   "cell_type": "markdown",
   "id": "879f660f-40e7-4f4d-aeda-cdb9a925a74f",
   "metadata": {},
   "source": [
    "##  Determining if the model is overfitting or underfitting"
   ]
  },
  {
   "cell_type": "markdown",
   "id": "c84971ef-a255-4146-86ca-f7144800fd9c",
   "metadata": {},
   "source": [
    "### Calculating RMSE on the training set"
   ]
  },
  {
   "cell_type": "code",
   "execution_count": 41,
   "id": "93dda156-ff35-46f2-8aa0-d15a7e7669ee",
   "metadata": {},
   "outputs": [],
   "source": [
    "y_train_pred = model.predict(X_train)\n",
    "rmse_train = np.sqrt(mean_squared_error(y_train, y_train_pred))"
   ]
  },
  {
   "cell_type": "markdown",
   "id": "85832a0e-08e1-42d0-8269-7f577ebda402",
   "metadata": {},
   "source": [
    "### Calculating RMSE on the test set"
   ]
  },
  {
   "cell_type": "code",
   "execution_count": 42,
   "id": "6e388b3a-344f-4a6f-b888-ad40343eb5a6",
   "metadata": {},
   "outputs": [],
   "source": [
    "y_test_pred = model.predict(X_test)\n",
    "rmse_test = np.sqrt(mean_squared_error(y_test, y_test_pred))"
   ]
  },
  {
   "cell_type": "code",
   "execution_count": 43,
   "id": "789d408b-c634-4da1-bc83-da673d6bfc5a",
   "metadata": {},
   "outputs": [
    {
     "name": "stdout",
     "output_type": "stream",
     "text": [
      "Training RMSE: 2.23\n",
      "Test RMSE: 2.28\n"
     ]
    }
   ],
   "source": [
    "print(f\"Training RMSE: {rmse_train:.2f}\")\n",
    "print(f\"Test RMSE: {rmse_test:.2f}\")"
   ]
  },
  {
   "cell_type": "markdown",
   "id": "805ebf53-a05d-42b1-a20e-f4f8b47fed24",
   "metadata": {},
   "source": [
    "### The model is neither overfitting nor underfitting; it is well-fitted and generalizes well because the training RMSE (2.23) and test RMSE (2.28) are very close"
   ]
  },
  {
   "cell_type": "code",
   "execution_count": null,
   "id": "19162bff-4907-4505-8fdc-5ba33f6b8ce0",
   "metadata": {},
   "outputs": [],
   "source": []
  }
 ],
 "metadata": {
  "kernelspec": {
   "display_name": "Python 3 (ipykernel)",
   "language": "python",
   "name": "python3"
  },
  "language_info": {
   "codemirror_mode": {
    "name": "ipython",
    "version": 3
   },
   "file_extension": ".py",
   "mimetype": "text/x-python",
   "name": "python",
   "nbconvert_exporter": "python",
   "pygments_lexer": "ipython3",
   "version": "3.11.7"
  }
 },
 "nbformat": 4,
 "nbformat_minor": 5
}
